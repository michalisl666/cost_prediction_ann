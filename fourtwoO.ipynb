{
 "cells": [
  {
   "cell_type": "markdown",
   "id": "e85084ad-47f3-4a96-8b31-f7aefd0ab0e1",
   "metadata": {},
   "source": [
    "# εφαρμογή τεχνητών νευρωνικών δικτύων\n",
    "## 1.Import Libraries"
   ]
  },
  {
   "cell_type": "code",
   "execution_count": 1,
   "id": "99936cf9-34e9-4a5e-9c51-d92907f4bc76",
   "metadata": {},
   "outputs": [
    {
     "name": "stderr",
     "output_type": "stream",
     "text": [
      "/Users/nothing/Library/Python/3.9/lib/python/site-packages/urllib3/__init__.py:35: NotOpenSSLWarning: urllib3 v2 only supports OpenSSL 1.1.1+, currently the 'ssl' module is compiled with 'LibreSSL 2.8.3'. See: https://github.com/urllib3/urllib3/issues/3020\n",
      "  warnings.warn(\n"
     ]
    }
   ],
   "source": [
    "import pandas as pd\n",
    "import numpy as np\n",
    "from sklearn.model_selection import train_test_split\n",
    "from sklearn.preprocessing import StandardScaler\n",
    "from tensorflow.keras.models import Sequential\n",
    "from tensorflow.keras.layers import Dense\n",
    "from tensorflow.keras.optimizers import Adam\n",
    "from sklearn.metrics import mean_absolute_percentage_error, mean_squared_error, root_mean_squared_error"
   ]
  },
  {
   "cell_type": "markdown",
   "id": "3f54f151-e158-4026-9988-2ae274318c19",
   "metadata": {},
   "source": [
    "## 2.ipothetiko tyxaio data-set\n",
    "\n",
    "ορισμός μεταβλητών επιρροής του κόστους και πλήθος παρατηρήσεων (100)"
   ]
  },
  {
   "cell_type": "code",
   "execution_count": 3,
   "id": "eba47d30-cc9d-4a34-94f5-fcaafb2239e0",
   "metadata": {},
   "outputs": [
    {
     "data": {
      "text/html": [
       "<div>\n",
       "<style scoped>\n",
       "    .dataframe tbody tr th:only-of-type {\n",
       "        vertical-align: middle;\n",
       "    }\n",
       "\n",
       "    .dataframe tbody tr th {\n",
       "        vertical-align: top;\n",
       "    }\n",
       "\n",
       "    .dataframe thead th {\n",
       "        text-align: right;\n",
       "    }\n",
       "</style>\n",
       "<table border=\"1\" class=\"dataframe\">\n",
       "  <thead>\n",
       "    <tr style=\"text-align: right;\">\n",
       "      <th></th>\n",
       "      <th>road_length_km</th>\n",
       "      <th>material_costs</th>\n",
       "      <th>labor_hours</th>\n",
       "      <th>weather_days_rain</th>\n",
       "      <th>total_cost</th>\n",
       "    </tr>\n",
       "  </thead>\n",
       "  <tbody>\n",
       "    <tr>\n",
       "      <th>0</th>\n",
       "      <td>13.608841</td>\n",
       "      <td>5532.670941</td>\n",
       "      <td>972.581837</td>\n",
       "      <td>16</td>\n",
       "      <td>13986.119539</td>\n",
       "    </tr>\n",
       "    <tr>\n",
       "      <th>1</th>\n",
       "      <td>8.919088</td>\n",
       "      <td>1692.861082</td>\n",
       "      <td>650.285937</td>\n",
       "      <td>1</td>\n",
       "      <td>194423.838972</td>\n",
       "    </tr>\n",
       "    <tr>\n",
       "      <th>2</th>\n",
       "      <td>4.684175</td>\n",
       "      <td>5841.143876</td>\n",
       "      <td>849.775086</td>\n",
       "      <td>12</td>\n",
       "      <td>15965.048644</td>\n",
       "    </tr>\n",
       "    <tr>\n",
       "      <th>3</th>\n",
       "      <td>7.055347</td>\n",
       "      <td>3478.561962</td>\n",
       "      <td>466.628270</td>\n",
       "      <td>15</td>\n",
       "      <td>63217.540304</td>\n",
       "    </tr>\n",
       "    <tr>\n",
       "      <th>4</th>\n",
       "      <td>12.414780</td>\n",
       "      <td>6485.607742</td>\n",
       "      <td>486.056936</td>\n",
       "      <td>10</td>\n",
       "      <td>194152.405733</td>\n",
       "    </tr>\n",
       "  </tbody>\n",
       "</table>\n",
       "</div>"
      ],
      "text/plain": [
       "   road_length_km  material_costs  labor_hours  weather_days_rain  \\\n",
       "0       13.608841     5532.670941   972.581837                 16   \n",
       "1        8.919088     1692.861082   650.285937                  1   \n",
       "2        4.684175     5841.143876   849.775086                 12   \n",
       "3        7.055347     3478.561962   466.628270                 15   \n",
       "4       12.414780     6485.607742   486.056936                 10   \n",
       "\n",
       "      total_cost  \n",
       "0   13986.119539  \n",
       "1  194423.838972  \n",
       "2   15965.048644  \n",
       "3   63217.540304  \n",
       "4  194152.405733  "
      ]
     },
     "execution_count": 3,
     "metadata": {},
     "output_type": "execute_result"
    }
   ],
   "source": [
    "# Hypothetical dataset\n",
    "data = {\n",
    "    'road_length_km': np.random.uniform(1, 20, 100),\n",
    "    'material_costs': np.random.uniform(1000, 10000, 100),\n",
    "    'labor_hours': np.random.uniform(100, 1000, 100),\n",
    "    'weather_days_rain': np.random.randint(0, 20, 100),\n",
    "    'total_cost': np.random.uniform(10000, 200000, 100)  # Target variable\n",
    "}\n",
    "df = pd.DataFrame(data)\n",
    "df.head()"
   ]
  },
  {
   "cell_type": "markdown",
   "id": "5a039113-d7fc-464b-b173-416d38d42c73",
   "metadata": {},
   "source": [
    "## 3.proepeksergasia dedomenwn\n",
    "\n",
    "χωρισμός δεδομένων σε δεδομένα εκπαίδευσης και επιβεβαίωσης"
   ]
  },
  {
   "cell_type": "code",
   "execution_count": 4,
   "id": "29c13eee-b44a-4454-a947-4ac6639a781f",
   "metadata": {},
   "outputs": [],
   "source": [
    "X = df.drop('total_cost', axis=1)\n",
    "y = df['total_cost']\n",
    "\n",
    "X_train, X_test, y_train, y_test = train_test_split(X, y, test_size=0.2, random_state=42)\n",
    "\n",
    "# print(\"X_train: \",y_train)"
   ]
  },
  {
   "cell_type": "markdown",
   "id": "d0afccf2-d03a-451f-b00c-87c87fc5a109",
   "metadata": {},
   "source": [
    "## kanonikopoiisi paragontwn\n",
    "\n",
    "κανονικοποίση παραγόντων επιρροής με z-score normalization (x_kan = (x-μ)/σ)"
   ]
  },
  {
   "cell_type": "code",
   "execution_count": 11,
   "id": "2b81064f-9882-4bd9-b3a1-87701cf4a0f3",
   "metadata": {},
   "outputs": [
    {
     "name": "stdout",
     "output_type": "stream",
     "text": [
      "<class 'numpy.ndarray'> <class 'numpy.ndarray'>\n",
      "(80, 4) (80,)\n",
      "X_train_scaled shape: (80, 4)\n",
      "y_train shape: (80,)\n",
      "NaNs in X_train_scaled: 0\n",
      "NaNs in y_train: 0\n",
      "NaNs in X_test_scaled: 0\n",
      "NaNs in y_test: 0\n"
     ]
    }
   ],
   "source": [
    "scaler = StandardScaler()\n",
    "X_train_scaled = scaler.fit_transform(X_train)\n",
    "X_test_scaled = scaler.transform(X_test)\n",
    "\n",
    "# X_train_scaled = np.array(X_train_scaled)\n",
    "# X_test_scaled = np.array(X_test_scaled)\n",
    "# y_train = np.array(y_train)\n",
    "# y_test = np.array(y_test)\n",
    "\n",
    "# print(\"X_scaled: \",X_train_scaled.shape(), )\n",
    "\n",
    "print(type(X_train_scaled), type(y_train))\n",
    "print(X_train_scaled.shape, y_train.shape)\n",
    "\n",
    "print(\"X_train_scaled shape:\", X_train_scaled.shape)\n",
    "print(\"y_train shape:\", y_train.shape)\n",
    "\n",
    "print(\"NaNs in X_train_scaled:\", np.isnan(X_train_scaled).sum())\n",
    "print(\"NaNs in y_train:\", np.isnan(y_train).sum())\n",
    "print(\"NaNs in X_test_scaled:\", np.isnan(X_test_scaled).sum())\n",
    "print(\"NaNs in y_test:\", np.isnan(y_test).sum())\n",
    "\n"
   ]
  },
  {
   "cell_type": "markdown",
   "id": "ac30ed3b-71c6-41a2-9ed9-995e974d8db5",
   "metadata": {},
   "source": [
    "## 4. dimiourgia montelou ANN\n",
    "\n",
    "Ορισμός μοντελου (sequential) και αρχικοποίηση με input layer στο οποίο οι νευρώνες είναι ίσοι με τους παραγοντες επιρροής, 2 hidden layers τα οποία περιέχουν το καθένα 32 νευρώνες και output layer με μοναδικό νευρώνα. Χρησιμοποιήσαμε relu (rectified linear unit) ως συναρτηση ενργοποιησης για να επιτρέψουμε στο μοντέλο να εκπαιδευτεί σε σύνθετες μη-γραμμικές σχέσεις μεταξύ των παραγόντων επιρροής (Χ) και γραμμικη συναρτηση ενεργοποίησης στο output για να εξασφαλίσουμε ότι το κόστος θα είναι συνεχής τιμή.\n",
    "Έπειτα κανουμε compile to μοντέλο με χρήση Adam Optimizer για δυναμική προσαρμογή του ρυθμού εκπαίδευσης (α). Επίσης ως συναρτηση κόστους θα ορίσουμε το μεσο τετραγωνικό σφάλμα και ως δείκτη απόδοσης θα χρησιμοποιήσουμε το μέσο απόλυτο σφάλμα (mae = Sum(yi-xi)/n)"
   ]
  },
  {
   "cell_type": "code",
   "execution_count": 12,
   "id": "d9e5e7dc-ee10-44fd-8c4a-1f6c41801017",
   "metadata": {},
   "outputs": [
    {
     "name": "stderr",
     "output_type": "stream",
     "text": [
      "/Users/nothing/Library/Python/3.9/lib/python/site-packages/keras/src/layers/core/dense.py:87: UserWarning: Do not pass an `input_shape`/`input_dim` argument to a layer. When using Sequential models, prefer using an `Input(shape)` object as the first layer in the model instead.\n",
      "  super().__init__(activity_regularizer=activity_regularizer, **kwargs)\n"
     ]
    }
   ],
   "source": [
    "# Initialize the model\n",
    "model = Sequential()\n",
    "\n",
    "# Input layer and first hidden layer\n",
    "model.add(Dense(units=32, activation='relu', input_dim=X_train.shape[1]))\n",
    "\n",
    "# Second hidden layer\n",
    "model.add(Dense(units=32, activation='relu'))\n",
    "\n",
    "# Output layer (for regression)\n",
    "model.add(Dense(units=1, activation='linear'))\n",
    "\n",
    "# Compile the model\n",
    "model.compile(optimizer=Adam(learning_rate=0.01), loss='mean_squared_error', metrics=['mae'])"
   ]
  },
  {
   "cell_type": "markdown",
   "id": "79aa409c-8a88-4165-bd9f-4eb9891d90b0",
   "metadata": {},
   "source": [
    "## 5.Ekpaidefsi montelou\n",
    "σε κάθε iteration το μοντέλο επεξεργάζεται 10 παραδείγματα απο το data set. Δεδομένου ότι υπάρχουν 100 παραδείγματα κάθε epoch tha έχει 10 iterations.\n"
   ]
  },
  {
   "cell_type": "code",
   "execution_count": 13,
   "id": "15a976d7-ba62-4425-84ca-dbd854c2f170",
   "metadata": {},
   "outputs": [
    {
     "name": "stdout",
     "output_type": "stream",
     "text": [
      "Epoch 1/100\n",
      "\u001b[1m8/8\u001b[0m \u001b[32m━━━━━━━━━━━━━━━━━━━━\u001b[0m\u001b[37m\u001b[0m \u001b[1m0s\u001b[0m 6ms/step - loss: 14248266752.0000 - mae: 104824.5234 - val_loss: 11699815424.0000 - val_mae: 92596.1406\n",
      "Epoch 2/100\n",
      "\u001b[1m8/8\u001b[0m \u001b[32m━━━━━━━━━━━━━━━━━━━━\u001b[0m\u001b[37m\u001b[0m \u001b[1m0s\u001b[0m 2ms/step - loss: 14556535808.0000 - mae: 106136.6172 - val_loss: 11698569216.0000 - val_mae: 92589.2109\n",
      "Epoch 3/100\n",
      "\u001b[1m8/8\u001b[0m \u001b[32m━━━━━━━━━━━━━━━━━━━━\u001b[0m\u001b[37m\u001b[0m \u001b[1m0s\u001b[0m 1ms/step - loss: 13938318336.0000 - mae: 102478.8203 - val_loss: 11695961088.0000 - val_mae: 92574.7031\n",
      "Epoch 4/100\n",
      "\u001b[1m8/8\u001b[0m \u001b[32m━━━━━━━━━━━━━━━━━━━━\u001b[0m\u001b[37m\u001b[0m \u001b[1m0s\u001b[0m 2ms/step - loss: 13492264960.0000 - mae: 101634.2969 - val_loss: 11691063296.0000 - val_mae: 92547.5469\n",
      "Epoch 5/100\n",
      "\u001b[1m8/8\u001b[0m \u001b[32m━━━━━━━━━━━━━━━━━━━━\u001b[0m\u001b[37m\u001b[0m \u001b[1m0s\u001b[0m 2ms/step - loss: 15016075264.0000 - mae: 108982.0000 - val_loss: 11682658304.0000 - val_mae: 92500.8594\n",
      "Epoch 6/100\n",
      "\u001b[1m8/8\u001b[0m \u001b[32m━━━━━━━━━━━━━━━━━━━━\u001b[0m\u001b[37m\u001b[0m \u001b[1m0s\u001b[0m 2ms/step - loss: 13889246208.0000 - mae: 102835.7109 - val_loss: 11668979712.0000 - val_mae: 92425.0156\n",
      "Epoch 7/100\n",
      "\u001b[1m8/8\u001b[0m \u001b[32m━━━━━━━━━━━━━━━━━━━━\u001b[0m\u001b[37m\u001b[0m \u001b[1m0s\u001b[0m 2ms/step - loss: 12573779968.0000 - mae: 96510.1406 - val_loss: 11648145408.0000 - val_mae: 92309.7656\n",
      "Epoch 8/100\n",
      "\u001b[1m8/8\u001b[0m \u001b[32m━━━━━━━━━━━━━━━━━━━━\u001b[0m\u001b[37m\u001b[0m \u001b[1m0s\u001b[0m 24ms/step - loss: 15699546112.0000 - mae: 111775.2969 - val_loss: 11618282496.0000 - val_mae: 92143.9766\n",
      "Epoch 9/100\n",
      "\u001b[1m8/8\u001b[0m \u001b[32m━━━━━━━━━━━━━━━━━━━━\u001b[0m\u001b[37m\u001b[0m \u001b[1m0s\u001b[0m 2ms/step - loss: 14855888896.0000 - mae: 107030.3438 - val_loss: 11576956928.0000 - val_mae: 91915.5156\n",
      "Epoch 10/100\n",
      "\u001b[1m8/8\u001b[0m \u001b[32m━━━━━━━━━━━━━━━━━━━━\u001b[0m\u001b[37m\u001b[0m \u001b[1m0s\u001b[0m 2ms/step - loss: 13769779200.0000 - mae: 99947.5078 - val_loss: 11522624512.0000 - val_mae: 91614.2891\n",
      "Epoch 11/100\n",
      "\u001b[1m8/8\u001b[0m \u001b[32m━━━━━━━━━━━━━━━━━━━━\u001b[0m\u001b[37m\u001b[0m \u001b[1m0s\u001b[0m 2ms/step - loss: 15093467136.0000 - mae: 107743.4922 - val_loss: 11451049984.0000 - val_mae: 91214.0859\n",
      "Epoch 12/100\n",
      "\u001b[1m8/8\u001b[0m \u001b[32m━━━━━━━━━━━━━━━━━━━━\u001b[0m\u001b[37m\u001b[0m \u001b[1m0s\u001b[0m 2ms/step - loss: 13385478144.0000 - mae: 98955.3516 - val_loss: 11360557056.0000 - val_mae: 90707.6094\n",
      "Epoch 13/100\n",
      "\u001b[1m8/8\u001b[0m \u001b[32m━━━━━━━━━━━━━━━━━━━━\u001b[0m\u001b[37m\u001b[0m \u001b[1m0s\u001b[0m 2ms/step - loss: 12490262528.0000 - mae: 94738.2266 - val_loss: 11248919552.0000 - val_mae: 90079.8906\n",
      "Epoch 14/100\n",
      "\u001b[1m8/8\u001b[0m \u001b[32m━━━━━━━━━━━━━━━━━━━━\u001b[0m\u001b[37m\u001b[0m \u001b[1m0s\u001b[0m 2ms/step - loss: 14115603456.0000 - mae: 105363.5938 - val_loss: 11110806528.0000 - val_mae: 89296.4219\n",
      "Epoch 15/100\n",
      "\u001b[1m8/8\u001b[0m \u001b[32m━━━━━━━━━━━━━━━━━━━━\u001b[0m\u001b[37m\u001b[0m \u001b[1m0s\u001b[0m 2ms/step - loss: 14970205184.0000 - mae: 109089.6016 - val_loss: 10949408768.0000 - val_mae: 88370.1094\n",
      "Epoch 16/100\n",
      "\u001b[1m8/8\u001b[0m \u001b[32m━━━━━━━━━━━━━━━━━━━━\u001b[0m\u001b[37m\u001b[0m \u001b[1m0s\u001b[0m 6ms/step - loss: 12257136640.0000 - mae: 95670.0547 - val_loss: 10763319296.0000 - val_mae: 87294.9844\n",
      "Epoch 17/100\n",
      "\u001b[1m8/8\u001b[0m \u001b[32m━━━━━━━━━━━━━━━━━━━━\u001b[0m\u001b[37m\u001b[0m \u001b[1m0s\u001b[0m 2ms/step - loss: 12965661696.0000 - mae: 99461.2969 - val_loss: 10545960960.0000 - val_mae: 86008.6641\n",
      "Epoch 18/100\n",
      "\u001b[1m8/8\u001b[0m \u001b[32m━━━━━━━━━━━━━━━━━━━━\u001b[0m\u001b[37m\u001b[0m \u001b[1m0s\u001b[0m 2ms/step - loss: 13552550912.0000 - mae: 102098.5703 - val_loss: 10297972736.0000 - val_mae: 84516.6406\n",
      "Epoch 19/100\n",
      "\u001b[1m8/8\u001b[0m \u001b[32m━━━━━━━━━━━━━━━━━━━━\u001b[0m\u001b[37m\u001b[0m \u001b[1m0s\u001b[0m 2ms/step - loss: 12506404864.0000 - mae: 96411.3125 - val_loss: 10026195968.0000 - val_mae: 82844.6875\n",
      "Epoch 20/100\n",
      "\u001b[1m8/8\u001b[0m \u001b[32m━━━━━━━━━━━━━━━━━━━━\u001b[0m\u001b[37m\u001b[0m \u001b[1m0s\u001b[0m 2ms/step - loss: 11952019456.0000 - mae: 93049.8516 - val_loss: 9722696704.0000 - val_mae: 80948.5312\n",
      "Epoch 21/100\n",
      "\u001b[1m8/8\u001b[0m \u001b[32m━━━━━━━━━━━━━━━━━━━━\u001b[0m\u001b[37m\u001b[0m \u001b[1m0s\u001b[0m 2ms/step - loss: 12737190912.0000 - mae: 97791.3047 - val_loss: 9386182656.0000 - val_mae: 78776.2656\n",
      "Epoch 22/100\n",
      "\u001b[1m8/8\u001b[0m \u001b[32m━━━━━━━━━━━━━━━━━━━━\u001b[0m\u001b[37m\u001b[0m \u001b[1m0s\u001b[0m 2ms/step - loss: 10688009216.0000 - mae: 87424.2812 - val_loss: 9035642880.0000 - val_mae: 76583.1641\n",
      "Epoch 23/100\n",
      "\u001b[1m8/8\u001b[0m \u001b[32m━━━━━━━━━━━━━━━━━━━━\u001b[0m\u001b[37m\u001b[0m \u001b[1m0s\u001b[0m 2ms/step - loss: 11785392128.0000 - mae: 93653.0234 - val_loss: 8653342720.0000 - val_mae: 74407.6719\n",
      "Epoch 24/100\n",
      "\u001b[1m8/8\u001b[0m \u001b[32m━━━━━━━━━━━━━━━━━━━━\u001b[0m\u001b[37m\u001b[0m \u001b[1m0s\u001b[0m 2ms/step - loss: 11720227840.0000 - mae: 93893.7344 - val_loss: 8257504768.0000 - val_mae: 72482.4141\n",
      "Epoch 25/100\n",
      "\u001b[1m8/8\u001b[0m \u001b[32m━━━━━━━━━━━━━━━━━━━━\u001b[0m\u001b[37m\u001b[0m \u001b[1m0s\u001b[0m 2ms/step - loss: 11079041024.0000 - mae: 87098.8203 - val_loss: 7857297920.0000 - val_mae: 70757.0469\n",
      "Epoch 26/100\n",
      "\u001b[1m8/8\u001b[0m \u001b[32m━━━━━━━━━━━━━━━━━━━━\u001b[0m\u001b[37m\u001b[0m \u001b[1m0s\u001b[0m 2ms/step - loss: 8613853184.0000 - mae: 77490.3516 - val_loss: 7453898240.0000 - val_mae: 68938.6641\n",
      "Epoch 27/100\n",
      "\u001b[1m8/8\u001b[0m \u001b[32m━━━━━━━━━━━━━━━━━━━━\u001b[0m\u001b[37m\u001b[0m \u001b[1m0s\u001b[0m 2ms/step - loss: 8734623744.0000 - mae: 78207.9609 - val_loss: 7037629440.0000 - val_mae: 66946.8906\n",
      "Epoch 28/100\n",
      "\u001b[1m8/8\u001b[0m \u001b[32m━━━━━━━━━━━━━━━━━━━━\u001b[0m\u001b[37m\u001b[0m \u001b[1m0s\u001b[0m 2ms/step - loss: 8542467584.0000 - mae: 76292.3516 - val_loss: 6629994496.0000 - val_mae: 64842.8008\n",
      "Epoch 29/100\n",
      "\u001b[1m8/8\u001b[0m \u001b[32m━━━━━━━━━━━━━━━━━━━━\u001b[0m\u001b[37m\u001b[0m \u001b[1m0s\u001b[0m 2ms/step - loss: 7473763840.0000 - mae: 69237.6641 - val_loss: 6242579456.0000 - val_mae: 63102.0625\n",
      "Epoch 30/100\n",
      "\u001b[1m8/8\u001b[0m \u001b[32m━━━━━━━━━━━━━━━━━━━━\u001b[0m\u001b[37m\u001b[0m \u001b[1m0s\u001b[0m 2ms/step - loss: 6506777088.0000 - mae: 64427.4023 - val_loss: 5872745984.0000 - val_mae: 61764.6797\n",
      "Epoch 31/100\n",
      "\u001b[1m8/8\u001b[0m \u001b[32m━━━━━━━━━━━━━━━━━━━━\u001b[0m\u001b[37m\u001b[0m \u001b[1m0s\u001b[0m 2ms/step - loss: 5298193408.0000 - mae: 57920.8828 - val_loss: 5541548032.0000 - val_mae: 60624.8516\n",
      "Epoch 32/100\n",
      "\u001b[1m8/8\u001b[0m \u001b[32m━━━━━━━━━━━━━━━━━━━━\u001b[0m\u001b[37m\u001b[0m \u001b[1m0s\u001b[0m 2ms/step - loss: 6851676672.0000 - mae: 66715.6172 - val_loss: 5215401472.0000 - val_mae: 59462.0234\n",
      "Epoch 33/100\n",
      "\u001b[1m8/8\u001b[0m \u001b[32m━━━━━━━━━━━━━━━━━━━━\u001b[0m\u001b[37m\u001b[0m \u001b[1m0s\u001b[0m 2ms/step - loss: 5069787648.0000 - mae: 58004.4570 - val_loss: 4941955072.0000 - val_mae: 58454.8125\n",
      "Epoch 34/100\n",
      "\u001b[1m8/8\u001b[0m \u001b[32m━━━━━━━━━━━━━━━━━━━━\u001b[0m\u001b[37m\u001b[0m \u001b[1m0s\u001b[0m 2ms/step - loss: 5051616256.0000 - mae: 56707.5977 - val_loss: 4710150144.0000 - val_mae: 57375.4766\n",
      "Epoch 35/100\n",
      "\u001b[1m8/8\u001b[0m \u001b[32m━━━━━━━━━━━━━━━━━━━━\u001b[0m\u001b[37m\u001b[0m \u001b[1m0s\u001b[0m 2ms/step - loss: 4094074368.0000 - mae: 52056.4531 - val_loss: 4511591936.0000 - val_mae: 56232.4258\n",
      "Epoch 36/100\n",
      "\u001b[1m8/8\u001b[0m \u001b[32m━━━━━━━━━━━━━━━━━━━━\u001b[0m\u001b[37m\u001b[0m \u001b[1m0s\u001b[0m 1ms/step - loss: 3547144192.0000 - mae: 48552.5547 - val_loss: 4367662080.0000 - val_mae: 55176.1797\n",
      "Epoch 37/100\n",
      "\u001b[1m8/8\u001b[0m \u001b[32m━━━━━━━━━━━━━━━━━━━━\u001b[0m\u001b[37m\u001b[0m \u001b[1m0s\u001b[0m 2ms/step - loss: 3525251072.0000 - mae: 46597.4883 - val_loss: 4258082048.0000 - val_mae: 54128.6133\n",
      "Epoch 38/100\n",
      "\u001b[1m8/8\u001b[0m \u001b[32m━━━━━━━━━━━━━━━━━━━━\u001b[0m\u001b[37m\u001b[0m \u001b[1m0s\u001b[0m 2ms/step - loss: 3368684800.0000 - mae: 47086.1133 - val_loss: 4180157184.0000 - val_mae: 53094.7891\n",
      "Epoch 39/100\n",
      "\u001b[1m8/8\u001b[0m \u001b[32m━━━━━━━━━━━━━━━━━━━━\u001b[0m\u001b[37m\u001b[0m \u001b[1m0s\u001b[0m 2ms/step - loss: 2832666880.0000 - mae: 43048.8555 - val_loss: 4123426816.0000 - val_mae: 52067.8203\n",
      "Epoch 40/100\n",
      "\u001b[1m8/8\u001b[0m \u001b[32m━━━━━━━━━━━━━━━━━━━━\u001b[0m\u001b[37m\u001b[0m \u001b[1m0s\u001b[0m 2ms/step - loss: 3411979776.0000 - mae: 46894.9609 - val_loss: 4097125632.0000 - val_mae: 51531.0000\n",
      "Epoch 41/100\n",
      "\u001b[1m8/8\u001b[0m \u001b[32m━━━━━━━━━━━━━━━━━━━━\u001b[0m\u001b[37m\u001b[0m \u001b[1m0s\u001b[0m 2ms/step - loss: 2625315328.0000 - mae: 39879.8164 - val_loss: 4080855552.0000 - val_mae: 51182.4805\n",
      "Epoch 42/100\n",
      "\u001b[1m8/8\u001b[0m \u001b[32m━━━━━━━━━━━━━━━━━━━━\u001b[0m\u001b[37m\u001b[0m \u001b[1m0s\u001b[0m 2ms/step - loss: 2909980160.0000 - mae: 43997.2695 - val_loss: 4083642880.0000 - val_mae: 51167.1250\n",
      "Epoch 43/100\n",
      "\u001b[1m8/8\u001b[0m \u001b[32m━━━━━━━━━━━━━━━━━━━━\u001b[0m\u001b[37m\u001b[0m \u001b[1m0s\u001b[0m 2ms/step - loss: 2869174528.0000 - mae: 42105.4570 - val_loss: 4101350912.0000 - val_mae: 51259.5234\n",
      "Epoch 44/100\n",
      "\u001b[1m8/8\u001b[0m \u001b[32m━━━━━━━━━━━━━━━━━━━━\u001b[0m\u001b[37m\u001b[0m \u001b[1m0s\u001b[0m 2ms/step - loss: 2620253696.0000 - mae: 41364.9961 - val_loss: 4114645760.0000 - val_mae: 51297.6953\n",
      "Epoch 45/100\n",
      "\u001b[1m8/8\u001b[0m \u001b[32m━━━━━━━━━━━━━━━━━━━━\u001b[0m\u001b[37m\u001b[0m \u001b[1m0s\u001b[0m 2ms/step - loss: 2563242240.0000 - mae: 41201.6523 - val_loss: 4124932864.0000 - val_mae: 51285.3125\n",
      "Epoch 46/100\n",
      "\u001b[1m8/8\u001b[0m \u001b[32m━━━━━━━━━━━━━━━━━━━━\u001b[0m\u001b[37m\u001b[0m \u001b[1m0s\u001b[0m 2ms/step - loss: 2947331072.0000 - mae: 45635.4727 - val_loss: 4133100800.0000 - val_mae: 51261.3047\n",
      "Epoch 47/100\n",
      "\u001b[1m8/8\u001b[0m \u001b[32m━━━━━━━━━━━━━━━━━━━━\u001b[0m\u001b[37m\u001b[0m \u001b[1m0s\u001b[0m 5ms/step - loss: 2966481152.0000 - mae: 44858.0703 - val_loss: 4127992320.0000 - val_mae: 51243.3828\n",
      "Epoch 48/100\n",
      "\u001b[1m8/8\u001b[0m \u001b[32m━━━━━━━━━━━━━━━━━━━━\u001b[0m\u001b[37m\u001b[0m \u001b[1m0s\u001b[0m 2ms/step - loss: 3004252672.0000 - mae: 46953.2031 - val_loss: 4136456192.0000 - val_mae: 51226.5273\n",
      "Epoch 49/100\n",
      "\u001b[1m8/8\u001b[0m \u001b[32m━━━━━━━━━━━━━━━━━━━━\u001b[0m\u001b[37m\u001b[0m \u001b[1m0s\u001b[0m 2ms/step - loss: 2929101824.0000 - mae: 45148.1562 - val_loss: 4127864832.0000 - val_mae: 51169.5820\n",
      "Epoch 50/100\n",
      "\u001b[1m8/8\u001b[0m \u001b[32m━━━━━━━━━━━━━━━━━━━━\u001b[0m\u001b[37m\u001b[0m \u001b[1m0s\u001b[0m 2ms/step - loss: 2533308416.0000 - mae: 42573.6367 - val_loss: 4143149056.0000 - val_mae: 51182.0820\n",
      "Epoch 51/100\n",
      "\u001b[1m8/8\u001b[0m \u001b[32m━━━━━━━━━━━━━━━━━━━━\u001b[0m\u001b[37m\u001b[0m \u001b[1m0s\u001b[0m 2ms/step - loss: 2549856256.0000 - mae: 41955.4727 - val_loss: 4139097344.0000 - val_mae: 51149.9375\n",
      "Epoch 52/100\n",
      "\u001b[1m8/8\u001b[0m \u001b[32m━━━━━━━━━━━━━━━━━━━━\u001b[0m\u001b[37m\u001b[0m \u001b[1m0s\u001b[0m 2ms/step - loss: 2926750976.0000 - mae: 45366.2461 - val_loss: 4144456448.0000 - val_mae: 51107.0625\n",
      "Epoch 53/100\n",
      "\u001b[1m8/8\u001b[0m \u001b[32m━━━━━━━━━━━━━━━━━━━━\u001b[0m\u001b[37m\u001b[0m \u001b[1m0s\u001b[0m 2ms/step - loss: 2596202240.0000 - mae: 44019.2539 - val_loss: 4153764608.0000 - val_mae: 51109.8047\n",
      "Epoch 54/100\n",
      "\u001b[1m8/8\u001b[0m \u001b[32m━━━━━━━━━━━━━━━━━━━━\u001b[0m\u001b[37m\u001b[0m \u001b[1m0s\u001b[0m 2ms/step - loss: 2702695424.0000 - mae: 44495.1172 - val_loss: 4150313728.0000 - val_mae: 51086.7500\n",
      "Epoch 55/100\n",
      "\u001b[1m8/8\u001b[0m \u001b[32m━━━━━━━━━━━━━━━━━━━━\u001b[0m\u001b[37m\u001b[0m \u001b[1m0s\u001b[0m 2ms/step - loss: 2563646208.0000 - mae: 42369.4336 - val_loss: 4136235008.0000 - val_mae: 51051.0664\n",
      "Epoch 56/100\n",
      "\u001b[1m8/8\u001b[0m \u001b[32m━━━━━━━━━━━━━━━━━━━━\u001b[0m\u001b[37m\u001b[0m \u001b[1m0s\u001b[0m 2ms/step - loss: 2513420544.0000 - mae: 43100.8672 - val_loss: 4122477056.0000 - val_mae: 50936.7070\n",
      "Epoch 57/100\n",
      "\u001b[1m8/8\u001b[0m \u001b[32m━━━━━━━━━━━━━━━━━━━━\u001b[0m\u001b[37m\u001b[0m \u001b[1m0s\u001b[0m 2ms/step - loss: 2826352128.0000 - mae: 44428.5977 - val_loss: 4117397504.0000 - val_mae: 50905.9375\n",
      "Epoch 58/100\n",
      "\u001b[1m8/8\u001b[0m \u001b[32m━━━━━━━━━━━━━━━━━━━━\u001b[0m\u001b[37m\u001b[0m \u001b[1m0s\u001b[0m 2ms/step - loss: 2798520576.0000 - mae: 45211.9375 - val_loss: 4113273600.0000 - val_mae: 50890.3867\n",
      "Epoch 59/100\n",
      "\u001b[1m8/8\u001b[0m \u001b[32m━━━━━━━━━━━━━━━━━━━━\u001b[0m\u001b[37m\u001b[0m \u001b[1m0s\u001b[0m 2ms/step - loss: 2278917376.0000 - mae: 38163.9961 - val_loss: 4107034624.0000 - val_mae: 50869.0117\n",
      "Epoch 60/100\n",
      "\u001b[1m8/8\u001b[0m \u001b[32m━━━━━━━━━━━━━━━━━━━━\u001b[0m\u001b[37m\u001b[0m \u001b[1m0s\u001b[0m 4ms/step - loss: 2235783424.0000 - mae: 40275.8828 - val_loss: 4109720832.0000 - val_mae: 50879.4180\n",
      "Epoch 61/100\n",
      "\u001b[1m8/8\u001b[0m \u001b[32m━━━━━━━━━━━━━━━━━━━━\u001b[0m\u001b[37m\u001b[0m \u001b[1m0s\u001b[0m 2ms/step - loss: 2568703232.0000 - mae: 43293.8398 - val_loss: 4102927872.0000 - val_mae: 50865.7734\n",
      "Epoch 62/100\n",
      "\u001b[1m8/8\u001b[0m \u001b[32m━━━━━━━━━━━━━━━━━━━━\u001b[0m\u001b[37m\u001b[0m \u001b[1m0s\u001b[0m 1ms/step - loss: 2496159488.0000 - mae: 42080.3594 - val_loss: 4107413504.0000 - val_mae: 50901.4453\n",
      "Epoch 63/100\n",
      "\u001b[1m8/8\u001b[0m \u001b[32m━━━━━━━━━━━━━━━━━━━━\u001b[0m\u001b[37m\u001b[0m \u001b[1m0s\u001b[0m 1ms/step - loss: 2403587584.0000 - mae: 40948.2695 - val_loss: 4090712832.0000 - val_mae: 50849.1758\n",
      "Epoch 64/100\n",
      "\u001b[1m8/8\u001b[0m \u001b[32m━━━━━━━━━━━━━━━━━━━━\u001b[0m\u001b[37m\u001b[0m \u001b[1m0s\u001b[0m 2ms/step - loss: 2589068288.0000 - mae: 43188.9648 - val_loss: 4096966656.0000 - val_mae: 50875.4297\n",
      "Epoch 65/100\n",
      "\u001b[1m8/8\u001b[0m \u001b[32m━━━━━━━━━━━━━━━━━━━━\u001b[0m\u001b[37m\u001b[0m \u001b[1m0s\u001b[0m 2ms/step - loss: 2729035008.0000 - mae: 44287.4414 - val_loss: 4097148416.0000 - val_mae: 50882.3047\n",
      "Epoch 66/100\n",
      "\u001b[1m8/8\u001b[0m \u001b[32m━━━━━━━━━━━━━━━━━━━━\u001b[0m\u001b[37m\u001b[0m \u001b[1m0s\u001b[0m 2ms/step - loss: 2451998720.0000 - mae: 41348.5312 - val_loss: 4106880256.0000 - val_mae: 50929.4297\n",
      "Epoch 67/100\n",
      "\u001b[1m8/8\u001b[0m \u001b[32m━━━━━━━━━━━━━━━━━━━━\u001b[0m\u001b[37m\u001b[0m \u001b[1m0s\u001b[0m 2ms/step - loss: 2167277824.0000 - mae: 39891.4492 - val_loss: 4092928000.0000 - val_mae: 50853.6250\n",
      "Epoch 68/100\n",
      "\u001b[1m8/8\u001b[0m \u001b[32m━━━━━━━━━━━━━━━━━━━━\u001b[0m\u001b[37m\u001b[0m \u001b[1m0s\u001b[0m 2ms/step - loss: 2873660672.0000 - mae: 45896.9062 - val_loss: 4095902464.0000 - val_mae: 50902.5547\n",
      "Epoch 69/100\n",
      "\u001b[1m8/8\u001b[0m \u001b[32m━━━━━━━━━━━━━━━━━━━━\u001b[0m\u001b[37m\u001b[0m \u001b[1m0s\u001b[0m 2ms/step - loss: 2890883072.0000 - mae: 45711.1758 - val_loss: 4093734400.0000 - val_mae: 50895.8516\n",
      "Epoch 70/100\n",
      "\u001b[1m8/8\u001b[0m \u001b[32m━━━━━━━━━━━━━━━━━━━━\u001b[0m\u001b[37m\u001b[0m \u001b[1m0s\u001b[0m 2ms/step - loss: 2628109056.0000 - mae: 43510.9961 - val_loss: 4083870208.0000 - val_mae: 50839.2422\n",
      "Epoch 71/100\n",
      "\u001b[1m8/8\u001b[0m \u001b[32m━━━━━━━━━━━━━━━━━━━━\u001b[0m\u001b[37m\u001b[0m \u001b[1m0s\u001b[0m 2ms/step - loss: 2755607296.0000 - mae: 45639.8008 - val_loss: 4087556608.0000 - val_mae: 50859.8711\n",
      "Epoch 72/100\n",
      "\u001b[1m8/8\u001b[0m \u001b[32m━━━━━━━━━━━━━━━━━━━━\u001b[0m\u001b[37m\u001b[0m \u001b[1m0s\u001b[0m 2ms/step - loss: 2762759680.0000 - mae: 44276.3906 - val_loss: 4093655552.0000 - val_mae: 50911.7070\n",
      "Epoch 73/100\n",
      "\u001b[1m8/8\u001b[0m \u001b[32m━━━━━━━━━━━━━━━━━━━━\u001b[0m\u001b[37m\u001b[0m \u001b[1m0s\u001b[0m 2ms/step - loss: 2702284032.0000 - mae: 42544.1719 - val_loss: 4098192128.0000 - val_mae: 50932.4414\n",
      "Epoch 74/100\n",
      "\u001b[1m8/8\u001b[0m \u001b[32m━━━━━━━━━━━━━━━━━━━━\u001b[0m\u001b[37m\u001b[0m \u001b[1m0s\u001b[0m 2ms/step - loss: 2687650304.0000 - mae: 45086.3789 - val_loss: 4090337792.0000 - val_mae: 50897.2930\n",
      "Epoch 75/100\n",
      "\u001b[1m8/8\u001b[0m \u001b[32m━━━━━━━━━━━━━━━━━━━━\u001b[0m\u001b[37m\u001b[0m \u001b[1m0s\u001b[0m 1ms/step - loss: 2339361280.0000 - mae: 40850.9844 - val_loss: 4099177984.0000 - val_mae: 50925.8672\n",
      "Epoch 76/100\n",
      "\u001b[1m8/8\u001b[0m \u001b[32m━━━━━━━━━━━━━━━━━━━━\u001b[0m\u001b[37m\u001b[0m \u001b[1m0s\u001b[0m 1ms/step - loss: 2409806080.0000 - mae: 41172.9492 - val_loss: 4078387200.0000 - val_mae: 50876.6250\n",
      "Epoch 77/100\n",
      "\u001b[1m8/8\u001b[0m \u001b[32m━━━━━━━━━━━━━━━━━━━━\u001b[0m\u001b[37m\u001b[0m \u001b[1m0s\u001b[0m 1ms/step - loss: 2793973760.0000 - mae: 44827.4922 - val_loss: 4085467648.0000 - val_mae: 50928.7383\n",
      "Epoch 78/100\n",
      "\u001b[1m8/8\u001b[0m \u001b[32m━━━━━━━━━━━━━━━━━━━━\u001b[0m\u001b[37m\u001b[0m \u001b[1m0s\u001b[0m 2ms/step - loss: 2344356864.0000 - mae: 39844.4844 - val_loss: 4087635968.0000 - val_mae: 50929.5078\n",
      "Epoch 79/100\n",
      "\u001b[1m8/8\u001b[0m \u001b[32m━━━━━━━━━━━━━━━━━━━━\u001b[0m\u001b[37m\u001b[0m \u001b[1m0s\u001b[0m 1ms/step - loss: 2634929152.0000 - mae: 44559.1602 - val_loss: 4098054144.0000 - val_mae: 50928.9102\n",
      "Epoch 80/100\n",
      "\u001b[1m8/8\u001b[0m \u001b[32m━━━━━━━━━━━━━━━━━━━━\u001b[0m\u001b[37m\u001b[0m \u001b[1m0s\u001b[0m 1ms/step - loss: 2425494784.0000 - mae: 41885.1523 - val_loss: 4092011264.0000 - val_mae: 50920.8047\n",
      "Epoch 81/100\n",
      "\u001b[1m8/8\u001b[0m \u001b[32m━━━━━━━━━━━━━━━━━━━━\u001b[0m\u001b[37m\u001b[0m \u001b[1m0s\u001b[0m 2ms/step - loss: 2791885056.0000 - mae: 46449.7695 - val_loss: 4085852672.0000 - val_mae: 50876.7617\n",
      "Epoch 82/100\n",
      "\u001b[1m8/8\u001b[0m \u001b[32m━━━━━━━━━━━━━━━━━━━━\u001b[0m\u001b[37m\u001b[0m \u001b[1m0s\u001b[0m 2ms/step - loss: 2226438400.0000 - mae: 39278.5430 - val_loss: 4096881408.0000 - val_mae: 50958.1680\n",
      "Epoch 83/100\n",
      "\u001b[1m8/8\u001b[0m \u001b[32m━━━━━━━━━━━━━━━━━━━━\u001b[0m\u001b[37m\u001b[0m \u001b[1m0s\u001b[0m 2ms/step - loss: 2572293120.0000 - mae: 42472.1875 - val_loss: 4110065664.0000 - val_mae: 51017.5859\n",
      "Epoch 84/100\n",
      "\u001b[1m8/8\u001b[0m \u001b[32m━━━━━━━━━━━━━━━━━━━━\u001b[0m\u001b[37m\u001b[0m \u001b[1m0s\u001b[0m 2ms/step - loss: 2188195072.0000 - mae: 39602.0430 - val_loss: 4114125568.0000 - val_mae: 51027.0664\n",
      "Epoch 85/100\n",
      "\u001b[1m8/8\u001b[0m \u001b[32m━━━━━━━━━━━━━━━━━━━━\u001b[0m\u001b[37m\u001b[0m \u001b[1m0s\u001b[0m 2ms/step - loss: 2399983616.0000 - mae: 42258.1836 - val_loss: 4112687872.0000 - val_mae: 50991.2109\n",
      "Epoch 86/100\n",
      "\u001b[1m8/8\u001b[0m \u001b[32m━━━━━━━━━━━━━━━━━━━━\u001b[0m\u001b[37m\u001b[0m \u001b[1m0s\u001b[0m 2ms/step - loss: 2717447168.0000 - mae: 45034.1367 - val_loss: 4102933760.0000 - val_mae: 50973.6719\n",
      "Epoch 87/100\n",
      "\u001b[1m8/8\u001b[0m \u001b[32m━━━━━━━━━━━━━━━━━━━━\u001b[0m\u001b[37m\u001b[0m \u001b[1m0s\u001b[0m 2ms/step - loss: 2242215424.0000 - mae: 39060.0664 - val_loss: 4112560128.0000 - val_mae: 51033.3164\n",
      "Epoch 88/100\n",
      "\u001b[1m8/8\u001b[0m \u001b[32m━━━━━━━━━━━━━━━━━━━━\u001b[0m\u001b[37m\u001b[0m \u001b[1m0s\u001b[0m 2ms/step - loss: 2568666880.0000 - mae: 42636.0000 - val_loss: 4113188864.0000 - val_mae: 51036.4727\n",
      "Epoch 89/100\n",
      "\u001b[1m8/8\u001b[0m \u001b[32m━━━━━━━━━━━━━━━━━━━━\u001b[0m\u001b[37m\u001b[0m \u001b[1m0s\u001b[0m 2ms/step - loss: 2718532608.0000 - mae: 45435.1406 - val_loss: 4133246464.0000 - val_mae: 51119.6758\n",
      "Epoch 90/100\n",
      "\u001b[1m8/8\u001b[0m \u001b[32m━━━━━━━━━━━━━━━━━━━━\u001b[0m\u001b[37m\u001b[0m \u001b[1m0s\u001b[0m 2ms/step - loss: 2464598272.0000 - mae: 40749.2891 - val_loss: 4128624640.0000 - val_mae: 51126.0312\n",
      "Epoch 91/100\n",
      "\u001b[1m8/8\u001b[0m \u001b[32m━━━━━━━━━━━━━━━━━━━━\u001b[0m\u001b[37m\u001b[0m \u001b[1m0s\u001b[0m 2ms/step - loss: 2610256128.0000 - mae: 43382.1484 - val_loss: 4125975808.0000 - val_mae: 51129.8008\n",
      "Epoch 92/100\n",
      "\u001b[1m8/8\u001b[0m \u001b[32m━━━━━━━━━━━━━━━━━━━━\u001b[0m\u001b[37m\u001b[0m \u001b[1m0s\u001b[0m 2ms/step - loss: 2298846464.0000 - mae: 39327.2422 - val_loss: 4125932800.0000 - val_mae: 51145.3555\n",
      "Epoch 93/100\n",
      "\u001b[1m8/8\u001b[0m \u001b[32m━━━━━━━━━━━━━━━━━━━━\u001b[0m\u001b[37m\u001b[0m \u001b[1m0s\u001b[0m 3ms/step - loss: 2495578112.0000 - mae: 42086.7461 - val_loss: 4110687488.0000 - val_mae: 51071.8945\n",
      "Epoch 94/100\n",
      "\u001b[1m8/8\u001b[0m \u001b[32m━━━━━━━━━━━━━━━━━━━━\u001b[0m\u001b[37m\u001b[0m \u001b[1m0s\u001b[0m 2ms/step - loss: 2528259584.0000 - mae: 41509.2578 - val_loss: 4117592064.0000 - val_mae: 51073.8750\n",
      "Epoch 95/100\n",
      "\u001b[1m8/8\u001b[0m \u001b[32m━━━━━━━━━━━━━━━━━━━━\u001b[0m\u001b[37m\u001b[0m \u001b[1m0s\u001b[0m 1ms/step - loss: 2255046144.0000 - mae: 40068.0508 - val_loss: 4119154688.0000 - val_mae: 51072.2031\n",
      "Epoch 96/100\n",
      "\u001b[1m8/8\u001b[0m \u001b[32m━━━━━━━━━━━━━━━━━━━━\u001b[0m\u001b[37m\u001b[0m \u001b[1m0s\u001b[0m 2ms/step - loss: 2690669312.0000 - mae: 44928.3828 - val_loss: 4126700288.0000 - val_mae: 51112.4805\n",
      "Epoch 97/100\n",
      "\u001b[1m8/8\u001b[0m \u001b[32m━━━━━━━━━━━━━━━━━━━━\u001b[0m\u001b[37m\u001b[0m \u001b[1m0s\u001b[0m 2ms/step - loss: 2413510912.0000 - mae: 41977.1602 - val_loss: 4136551680.0000 - val_mae: 51157.2148\n",
      "Epoch 98/100\n",
      "\u001b[1m8/8\u001b[0m \u001b[32m━━━━━━━━━━━━━━━━━━━━\u001b[0m\u001b[37m\u001b[0m \u001b[1m0s\u001b[0m 1ms/step - loss: 2636038400.0000 - mae: 42554.8867 - val_loss: 4135625984.0000 - val_mae: 51165.9297\n",
      "Epoch 99/100\n",
      "\u001b[1m8/8\u001b[0m \u001b[32m━━━━━━━━━━━━━━━━━━━━\u001b[0m\u001b[37m\u001b[0m \u001b[1m0s\u001b[0m 2ms/step - loss: 2574638848.0000 - mae: 42692.8359 - val_loss: 4146057216.0000 - val_mae: 51197.1172\n",
      "Epoch 100/100\n",
      "\u001b[1m8/8\u001b[0m \u001b[32m━━━━━━━━━━━━━━━━━━━━\u001b[0m\u001b[37m\u001b[0m \u001b[1m0s\u001b[0m 2ms/step - loss: 2434949376.0000 - mae: 42596.4648 - val_loss: 4151168512.0000 - val_mae: 51224.9375\n"
     ]
    }
   ],
   "source": [
    "history = model.fit(X_train_scaled, y_train, validation_data=(X_test_scaled, y_test), epochs=100, batch_size=10)"
   ]
  },
  {
   "cell_type": "markdown",
   "id": "49b80188-4b64-4357-83c9-6365de44f578",
   "metadata": {},
   "source": [
    "## 6.grafimata"
   ]
  },
  {
   "cell_type": "code",
   "execution_count": 14,
   "id": "3d82e7c3-56a5-488e-8c99-44331255cfc7",
   "metadata": {},
   "outputs": [
    {
     "data": {
      "image/png": "[encoded data removed]",
      "text/plain": [
       "<Figure size 640x480 with 1 Axes>"
      ]
     },
     "metadata": {},
     "output_type": "display_data"
    }
   ],
   "source": [
    "import matplotlib.pyplot as plt\n",
    "plt.plot(history.history['loss'], label='Training Loss')\n",
    "plt.plot(history.history['val_loss'], label='Validation Loss')\n",
    "plt.xlabel('Epochs')\n",
    "plt.ylabel('Loss')\n",
    "plt.legend()\n",
    "plt.show()"
   ]
  },
  {
   "cell_type": "markdown",
   "id": "5245fc73-5b9c-4506-a642-58a1b9327caa",
   "metadata": {},
   "source": [
    "## aksiologisi montelou"
   ]
  },
  {
   "cell_type": "code",
   "execution_count": 15,
   "id": "0e724c38-4fbf-4f45-b77b-7528615af064",
   "metadata": {},
   "outputs": [
    {
     "name": "stdout",
     "output_type": "stream",
     "text": [
      "\u001b[1m1/1\u001b[0m \u001b[32m━━━━━━━━━━━━━━━━━━━━\u001b[0m\u001b[37m\u001b[0m \u001b[1m0s\u001b[0m 25ms/step\n",
      "MAPE: 114.13%\n",
      "RMSE: 64429.56\n"
     ]
    }
   ],
   "source": [
    "# Evaluate on test set\n",
    "y_pred = model.predict(X_test_scaled)\n",
    "\n",
    "# Calculate evaluation metrics\n",
    "mape = mean_absolute_percentage_error(y_test, y_pred)\n",
    "# rmse = mean_squared_error(y_test, y_pred, squared=False)\n",
    "rmse = root_mean_squared_error(y_test,y_pred)\n",
    "\n",
    "print(f'MAPE: {mape * 100:.2f}%')\n",
    "print(f'RMSE: {rmse:.2f}')"
   ]
  },
  {
   "cell_type": "code",
   "execution_count": null,
   "id": "434a61d2-e51e-4016-a8e4-ce5f255208a8",
   "metadata": {},
   "outputs": [],
   "source": []
  }
 ],
 "metadata": {
  "kernelspec": {
   "display_name": "Python 3 (ipykernel)",
   "language": "python",
   "name": "python3"
  },
  "language_info": {
   "codemirror_mode": {
    "name": "ipython",
    "version": 3
   },
   "file_extension": ".py",
   "mimetype": "text/x-python",
   "name": "python",
   "nbconvert_exporter": "python",
   "pygments_lexer": "ipython3",
   "version": "3.9.6"
  }
 },
 "nbformat": 4,
 "nbformat_minor": 5
}
